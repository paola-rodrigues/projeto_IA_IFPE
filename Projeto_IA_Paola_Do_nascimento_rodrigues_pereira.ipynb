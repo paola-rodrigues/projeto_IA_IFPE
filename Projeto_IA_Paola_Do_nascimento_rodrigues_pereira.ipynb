{
  "nbformat": 4,
  "nbformat_minor": 0,
  "metadata": {
    "colab": {
      "provenance": []
    },
    "kernelspec": {
      "name": "python3",
      "display_name": "Python 3"
    },
    "language_info": {
      "name": "python"
    }
  },
  "cells": [
    {
      "cell_type": "markdown",
      "source": [
        "# Projeto de IA\n",
        "\n",
        "Leia o artigo [A New Distance-weighted k -nearest Neighbor Classifier](https://www.researchgate.net/profile/Jianping-Gou/publication/266872328_A_New_Distance-weighted_k_-nearest_Neighbor_Classifier/links/5451acdf0cf2bf864cba99fc/A-New-Distance-weighted-k-nearest-Neighbor-Classifier.pdf) e compreenda a implementação do Weighted KNN (WKNN) e do Distance-Weighted KNN (DWKNN).`"
      ],
      "metadata": {
        "id": "5KIMoWy5NNDy"
      }
    },
    {
      "cell_type": "code",
      "source": [
        "# importação base de dados\n",
        "from sklearn.datasets import load_iris\n",
        "from sklearn.datasets import load_digits\n",
        "from sklearn.datasets import load_wine\n",
        "from sklearn.datasets import load_breast_cancer"
      ],
      "metadata": {
        "id": "QJdsp0vcJb4o"
      },
      "execution_count": null,
      "outputs": []
    },
    {
      "cell_type": "markdown",
      "source": [
        "## 1. Implementação\n",
        "\n",
        "Utilizando a implementação do KNN (que realizamos em sala) como modelo, Implemente as classes WKNN e DWKNN, ambas com os métodos `fit()` e `predict()"
      ],
      "metadata": {
        "id": "yZvDpGPfOcGg"
      }
    },
    {
      "cell_type": "markdown",
      "source": [
        "### 1.1. K Nearest Neighbors"
      ],
      "metadata": {
        "id": "xkX2trbHPINo"
      }
    },
    {
      "cell_type": "code",
      "execution_count": null,
      "metadata": {
        "id": "qi8bok5WNMOM"
      },
      "outputs": [],
      "source": [
        "import numpy as np\n",
        "from scipy import stats as st\n",
        "\n",
        "\n",
        "class knn:\n",
        "    def __init__(self, k):\n",
        "        self.K = k\n",
        "        self.data = None\n",
        "        self.target = None\n",
        "        self.target_values = None\n",
        "        \n",
        "    def fit(self, X, y): #treinamento\n",
        "        self.data = X\n",
        "        self.target = y\n",
        "        self.target_values = list(set(self.target))\n",
        "        \n",
        "    def predict(self, z):\n",
        "        diferencas = [\n",
        "            self.data[i, :] - z\n",
        "            for i in range(self.data.shape[0])\n",
        "        ]\n",
        "        \n",
        "        distances = np.array(\n",
        "            list(\n",
        "                map(\n",
        "                    np.linalg.norm, diferencas\n",
        "                )\n",
        "            )\n",
        "        )\n",
        "        \n",
        "        index = np.argsort(distances)[:self.K]\n",
        "        obtained = st.mode(self.target[index])\n",
        "        \n",
        "\n",
        "        return obtained.mode"
      ]
    },
    {
      "cell_type": "code",
      "source": [
        "#teste knn para verificar o retorno está igual a target\n",
        "data_knn = load_iris()"
      ],
      "metadata": {
        "id": "Ybw16PyAz6Rf"
      },
      "execution_count": null,
      "outputs": []
    },
    {
      "cell_type": "code",
      "source": [
        "tnn_knn = knn(3)\n",
        "tnn_knn.fit(data_knn.data, data_knn.target)\n",
        "print(f\"\"\"\n",
        "      x = ({tnn_knn.data.shape[:]})\n",
        "      y = ({tnn_knn.target.shape[:]})\n",
        "      labels = ({tnn_knn.target_values})\n",
        "      \"\"\"\n",
        "      )\n",
        "tnn_knn.predict(data_knn.data[149,:])"
      ],
      "metadata": {
        "id": "qVGxSEaj0jho",
        "colab": {
          "base_uri": "https://localhost:8080/"
        },
        "outputId": "aa4b3418-a8e7-4c3f-8783-c3b229d25b98"
      },
      "execution_count": null,
      "outputs": [
        {
          "output_type": "stream",
          "name": "stdout",
          "text": [
            "\n",
            "      x = ((150, 4))\n",
            "      y = ((150,))\n",
            "      labels = ([0, 1, 2])\n",
            "      \n"
          ]
        },
        {
          "output_type": "execute_result",
          "data": {
            "text/plain": [
              "array([2])"
            ]
          },
          "metadata": {},
          "execution_count": 5
        }
      ]
    },
    {
      "cell_type": "code",
      "source": [
        "data_knn.target[149]"
      ],
      "metadata": {
        "colab": {
          "base_uri": "https://localhost:8080/"
        },
        "id": "ews3_betLf6A",
        "outputId": "e6648e6d-1a9b-4d5b-9f6f-dd0fe95f4b9d"
      },
      "execution_count": null,
      "outputs": [
        {
          "output_type": "execute_result",
          "data": {
            "text/plain": [
              "2"
            ]
          },
          "metadata": {},
          "execution_count": 6
        }
      ]
    },
    {
      "cell_type": "markdown",
      "source": [
        "### 1.2. Weighted K Nearest Neighbors"
      ],
      "metadata": {
        "id": "8Doad5kKPZ9V"
      }
    },
    {
      "cell_type": "code",
      "source": [
        "class wknn:\n",
        "    def __init__(self, k):\n",
        "        self.K = k\n",
        "        self.data = None\n",
        "        self.target = None\n",
        "        self.target_values = None\n",
        "        \n",
        "    def fit(self, X, y):\n",
        "        self.data = X\n",
        "        self.target = y\n",
        "        self.target_values = list(set(self.target))        \n",
        "    \n",
        "        \n",
        "    def predict(self, z): #teste\n",
        "        diferencas = [\n",
        "            self.data[i, :] - z\n",
        "            for i in range(self.data.shape[0])        #matriz                      \n",
        "        ]\n",
        "        \n",
        "        distances = np.array(                          #lista de distância\n",
        "            list(                                                              \n",
        "                map(\n",
        "                    np.linalg.norm, diferencas\n",
        "                )\n",
        "            )\n",
        "        )\n",
        "\n",
        "        index = np.argsort(distances)[:self.K]\n",
        "        #regra do vizinho mais próximo ponderado pela distância\n",
        "        #vizinho mais proximo --   distances[index[0]]\n",
        "        #vizinho  mais distante -- distances[index[self.K-1]]  \n",
        "        lista_peso = []\n",
        "        #calculo retirado do artigo como solicitado: quando o vizinho mais proximo e o mais distante forem diferente caira no if e aplicara a formula.\n",
        "        for i in range(self.K):       \n",
        "          if(distances[index[self.K-1]]) != (distances[index[0]]):\n",
        "            wi = (((distances[index[self.K-1]]) - (distances[index[i]])) /((distances[index[self.K-1]]) - (distances[index[0]])))\n",
        "          else:\n",
        "             wi = 1\n",
        "          lista_peso.append(wi) \n",
        "          #foi criado uma lista como todos peso onde foi retirado o maior peso para aplicação na formula           \n",
        "        maior_peso = max(lista_peso)\n",
        "        \n",
        "        obtained = st.mode(maior_peso*(self.target[index]))# retorne o index dos k padrões do teste de z(ele utilizar a moda para padrão k) \n",
        "        \n",
        "        return obtained.mode\n"
      ],
      "metadata": {
        "id": "qjj-DI0sPaHy"
      },
      "execution_count": null,
      "outputs": []
    },
    {
      "cell_type": "code",
      "source": [
        "#teste wknn para verificar o retorno está igual a target\n",
        "wknn_df = load_iris()"
      ],
      "metadata": {
        "id": "XY85b_Tg5hvl"
      },
      "execution_count": null,
      "outputs": []
    },
    {
      "cell_type": "code",
      "source": [
        "tnn = wknn(3)\n",
        "tnn.fit(wknn_df.data, wknn_df.target)\n",
        "print(f\"\"\"\n",
        "      x = ({tnn.data.shape[:]})\n",
        "      y = ({tnn.target.shape[:]})\n",
        "      labels = ({tnn.target_values})\n",
        "      \"\"\"\n",
        "      )\n",
        "tnn.predict(wknn_df.data[140,:])"
      ],
      "metadata": {
        "colab": {
          "base_uri": "https://localhost:8080/"
        },
        "id": "bK3ZNCxHfN1o",
        "outputId": "5572eeeb-f50a-4497-9e35-fbf6284f6cfe"
      },
      "execution_count": null,
      "outputs": [
        {
          "output_type": "stream",
          "name": "stdout",
          "text": [
            "\n",
            "      x = ((150, 4))\n",
            "      y = ((150,))\n",
            "      labels = ([0, 1, 2])\n",
            "      \n"
          ]
        },
        {
          "output_type": "execute_result",
          "data": {
            "text/plain": [
              "array([2.])"
            ]
          },
          "metadata": {},
          "execution_count": 10
        }
      ]
    },
    {
      "cell_type": "code",
      "source": [
        "wknn_df.target[140]"
      ],
      "metadata": {
        "id": "hTTb2mnQfSXQ",
        "colab": {
          "base_uri": "https://localhost:8080/"
        },
        "outputId": "cb9f292a-70ca-4ff3-fd90-65561750b8a2"
      },
      "execution_count": null,
      "outputs": [
        {
          "output_type": "execute_result",
          "data": {
            "text/plain": [
              "2"
            ]
          },
          "metadata": {},
          "execution_count": 11
        }
      ]
    },
    {
      "cell_type": "markdown",
      "source": [
        "### 1.3. Distance-Weighted K Nearest Neighbors"
      ],
      "metadata": {
        "id": "WfL-xk2jPaT2"
      }
    },
    {
      "cell_type": "code",
      "source": [
        "class dwknn:\n",
        "    def __init__(self, k):        \n",
        "        self.K = k\n",
        "        self.data = None\n",
        "        self.target = None\n",
        "        self.target_values = None\n",
        "        \n",
        "    def fit(self, X, y):\n",
        "        self.data = X\n",
        "        self.target = y\n",
        "        self.target_values = list(set(self.target))    \n",
        "        \n",
        "  \n",
        "    def predict(self, z): #teste\n",
        "        diferencas = [\n",
        "            self.data[i, :] - z\n",
        "            for i in range(self.data.shape[0])                            \n",
        "        ]\n",
        "        \n",
        "        distances = np.array(\n",
        "            list(                                                              \n",
        "                map(\n",
        "                    np.linalg.norm, diferencas\n",
        "                )\n",
        "            )\n",
        "        )        \n",
        "        index = np.argsort(distances)[:self.K] \n",
        "        #vizinho mais proximo --   distances[index[0]]\n",
        "        #vizinho  mais distante -- distances[index[self.K-1]]\n",
        "        #calculo retirado do artigo como solicitado: quando o vizinho mais proximo e o mais distante forem diferente caira no if e aplicara a formula.\n",
        "\n",
        "        lista_peso = []\n",
        "\n",
        "        for i in range(self.K):       \n",
        "          if(distances[index[self.K-1]]) != (distances[index[0]]):\n",
        "            wi = ((((distances[index[self.K-1]]) - (distances[index[i]])) / ((distances[index[self.K-1]]) - (distances[index[0]]))) *                  \n",
        "                 (((distances[index[self.K-1]]) + (distances[index[0]])) /((distances[index[self.K-1]]) + (distances[index[i]]))))             \n",
        "          else:\n",
        "             wi = 1            \n",
        "          lista_peso.append(wi)\n",
        "          #foi criado uma lista como todos peso onde foi retirado o maior peso para aplicação na formula           \n",
        "\n",
        "          maior_peso = max(lista_peso)\n",
        "                       \n",
        "          obtained = st.mode(maior_peso*(self.target[index]))# retorne o index dos k padrões do teste de z(ele utilizar a moda para padrão k) \n",
        "        \n",
        "          return obtained.mode\n",
        "\n",
        "     \n",
        " \n",
        "\n"
      ],
      "metadata": {
        "id": "v_IMSbTjPacZ"
      },
      "execution_count": null,
      "outputs": []
    },
    {
      "cell_type": "code",
      "source": [
        "#teste dwknn para verificar o retorno está igual a target\n",
        "dwknn_df = load_iris()"
      ],
      "metadata": {
        "id": "3zWt061XmYXB"
      },
      "execution_count": null,
      "outputs": []
    },
    {
      "cell_type": "code",
      "source": [
        "tnn = dwknn(3)\n",
        "tnn.fit(dwknn_df.data, dwknn_df.target)\n",
        "#\n",
        "print(f\"\"\"\n",
        "      x = ({tnn.data.shape[:]})\n",
        "      y = ({tnn.target.shape[:]})\n",
        "      labels = ({tnn.target_values})\n",
        "      \"\"\"\n",
        "      )\n",
        "tnn.predict(dwknn_df.data[2,:])"
      ],
      "metadata": {
        "colab": {
          "base_uri": "https://localhost:8080/"
        },
        "id": "xyG_565Kmcrg",
        "outputId": "f73b7cfd-fda0-4bec-bd72-ac41152622fd"
      },
      "execution_count": null,
      "outputs": [
        {
          "output_type": "stream",
          "name": "stdout",
          "text": [
            "\n",
            "      x = ((150, 4))\n",
            "      y = ((150,))\n",
            "      labels = ([0, 1, 2])\n",
            "      \n"
          ]
        },
        {
          "output_type": "execute_result",
          "data": {
            "text/plain": [
              "array([0.])"
            ]
          },
          "metadata": {},
          "execution_count": 18
        }
      ]
    },
    {
      "cell_type": "code",
      "source": [
        "dwknn_df.target[2]"
      ],
      "metadata": {
        "colab": {
          "base_uri": "https://localhost:8080/"
        },
        "id": "0W9VZC4fmfxg",
        "outputId": "f0b1691e-cab3-4dd9-b72a-9373b8c8969e"
      },
      "execution_count": null,
      "outputs": [
        {
          "output_type": "execute_result",
          "data": {
            "text/plain": [
              "0"
            ]
          },
          "metadata": {},
          "execution_count": 19
        }
      ]
    },
    {
      "cell_type": "markdown",
      "source": [
        "## 2. Experimento\n",
        "\n",
        "Esse experimento visa comparar os desempenhos do KNN, WKNN e DWKNN em cenários de classificação.\n",
        "\n",
        "A ideia é que, para cada base de dados (de classificação), as implementações do KNN, WKNN e DWKNN awjão treinadas e usadas para predizer dados de teste.\n",
        "\n",
        "O desempenho da predição com cada implementação em cada base de dados deverá ser plotado em um gráfico a fim de possibilitar comparação."
      ],
      "metadata": {
        "id": "7pGFUU2HQW3c"
      }
    },
    {
      "cell_type": "markdown",
      "source": [
        "### 2.1. Bases de dados\n",
        "\n",
        "As bases de dados que serão utilizadas nesse experimento são:\n",
        "\n",
        "  * [Iris](https://scikit-learn.org/stable/modules/generated/sklearn.datasets.load_iris.html#sklearn.datasets.load_iris)\n",
        "  * [Digits](https://scikit-learn.org/stable/modules/generated/sklearn.datasets.load_digits.html#sklearn.datasets.load_digits)\n",
        "  * [Wine](https://scikit-learn.org/stable/modules/generated/sklearn.datasets.load_wine.html#sklearn.datasets.load_wine)\n",
        "  * [Breast cancer](https://scikit-learn.org/stable/modules/generated/sklearn.datasets.load_breast_cancer.html#sklearn.datasets.load_breast_cancer)\n",
        "\n",
        "No link apresentado para cada uma delas é exibida a forma de obter a base de dados."
      ],
      "metadata": {
        "id": "us2KOVeSRZwU"
      }
    },
    {
      "cell_type": "code",
      "source": [
        "from sklearn.datasets import load_iris\n",
        "from sklearn.datasets import load_digits\n",
        "from sklearn.datasets import load_wine\n",
        "from sklearn.datasets import load_breast_cancer"
      ],
      "metadata": {
        "id": "amLOGq02TVaL"
      },
      "execution_count": null,
      "outputs": []
    },
    {
      "cell_type": "markdown",
      "source": [
        "Sugestão, armazenar em um dicionário as 4 bases de dados.\n",
        "Por exemplo:\n",
        "```python\n",
        "data_bases = dict(\n",
        "  iris = {\n",
        "    'X': # padrões da base,\n",
        "    'y': # rótulos de classe por padrão da base\n",
        "  },\n",
        "  digits = {\n",
        "    'X': # padrões da base,\n",
        "    'y': # rótulos de classe por padrão da base\n",
        "  },\n",
        "  wine = {\n",
        "    'X': # padrões da base,\n",
        "    'y': # rótulos de classe por padrão da base\n",
        "  },\n",
        "  breast = {\n",
        "    'X': # padrões da base,\n",
        "    'y': # rótulos de classe por padrão da base\n",
        "  }\n",
        ")\n",
        "```"
      ],
      "metadata": {
        "id": "D4xDUptcUUJZ"
      }
    },
    {
      "cell_type": "code",
      "source": [
        "data_bases = dict(\n",
        "    iris = {\n",
        "    'X': load_iris().data,\n",
        "    'y': load_iris().target\n",
        "},\n",
        "  digits = {\n",
        "    'X': load_digits().data,\n",
        "    'y': load_digits().target\n",
        "},\n",
        "  wine = {\n",
        "    'X': load_wine().data,\n",
        "    'y': load_wine().target\n",
        "},\n",
        "  breast = {\n",
        "    'X': load_breast_cancer().data,\n",
        "    'y': load_breast_cancer().target\n",
        "  }\n",
        ")"
      ],
      "metadata": {
        "id": "JtRKB8MZTaaJ"
      },
      "execution_count": null,
      "outputs": []
    },
    {
      "cell_type": "markdown",
      "source": [
        "2.2. Bootstrapping\n",
        "\n",
        "Em aprendizagem de máquina, o termo `Bootstrapping` refere-se a uma estratégia de validação do modelo através da repetição de sua avaliação de desempenho.\n",
        "\n",
        "  1. Escolher um valor $r$ de repetições. Para esse experimento vamos escolher $r = 25$.\n",
        "  1. Repita de 1 até $r$:\n",
        "    * Aleatóriamente, particione a base em subconjuntos de treinamento e teste\n",
        "      * Treinamento com 75% dos padrões da base\n",
        "      * Teste com 25% dos padrões da base\n",
        "      * Ler documentação sobre [seleção de modelos](https://scikit-learn.org/stable/modules/classes.html#module-sklearn.model_selection)\n",
        "    * Sobre o conjunto de treinamento recém criado, treinar o KNN, WKNN e DWKNN\n",
        "    * Predizer as classes dos padrões no conjunto de teste utilizando o KNN, WKNN e DWKNN\n",
        "    * Computar o desempenho de predição do KNN, WKNN e DWKNN\n",
        "      * Ler documentação sobre a métrica de avaliação de desempenho - [acurácia](https://scikit-learn.org/stable/modules/generated/sklearn.metrics.accuracy_score.html#sklearn.metrics.accuracy_score)\n",
        "  1. Com os valores de desempenho calculados para cada variação do KNN, em cada repetição e para cada base de dados:\n",
        "    * plot gráficos que mostrem o comportamento do KNN, WHNN e DWKNN\n",
        "    * Ler documentação sobre [scatter plot](https://matplotlib.org/stable/api/_as_gen/matplotlib.pyplot.scatter.html)"
      ],
      "metadata": {
        "id": "DObtpFdhVabN"
      }
    },
    {
      "cell_type": "markdown",
      "source": [
        "# Divisão treino-teste\n",
        "\n",
        "** Use o método train_test_split para dividir seus dados em um conjunto treino e teste.**"
      ],
      "metadata": {
        "id": "XHPCI0OJDQFY"
      }
    },
    {
      "cell_type": "code",
      "source": [
        "import matplotlib.pyplot as plt  #plot gráficos\n",
        "\n",
        "#Dividir arrays ou matrizes em subconjuntos aleatórios de trem e teste\n",
        "from sklearn.model_selection import train_test_split\n",
        "\n",
        "from sklearn.metrics import accuracy_score  #Pontuação de classificação de precisão.\n"
      ],
      "metadata": {
        "id": "CdiaoI4aGDAm"
      },
      "execution_count": null,
      "outputs": []
    },
    {
      "cell_type": "code",
      "source": [
        "#pelo que entendi: usa a linha abaixo para determinar a seleção, usa esses valores no teste de acurácia e por fim faz o gráfico\n",
        "#X_train, X_test, y_train, y_test = train_test_split(data_bases['iris']['X'],data_bases['iris']['y'],train_size=0.75, test_size= 0.25)"
      ],
      "metadata": {
        "id": "lH0XQgLCQXEn"
      },
      "execution_count": null,
      "outputs": []
    },
    {
      "cell_type": "code",
      "source": [
        "#lista dos testes\n",
        "lista_X_test = []\n",
        "lista_y_test= []\n",
        "\n",
        "lista_X_test_wknn = []\n",
        "lista_y_test_wknn= []\n",
        "\n",
        "lista_X_test_dwknn = []\n",
        "lista_y_test_dwknn= []"
      ],
      "metadata": {
        "id": "PzHucRKjvE7T"
      },
      "execution_count": null,
      "outputs": []
    },
    {
      "cell_type": "code",
      "source": [
        "knn_k = knn(3)\n",
        "wknn_k = wknn(3)\n",
        "dwknn_k = dwknn(3)"
      ],
      "metadata": {
        "id": "OYjIhkFDxLjv"
      },
      "execution_count": null,
      "outputs": []
    },
    {
      "cell_type": "code",
      "source": [
        "score_knn = []\n",
        "score_wknn = []\n",
        "score_dwknn = []\n",
        "\n",
        "#foi feito um for para 25 repetições:\n",
        "for i in range(25):  \n",
        "  X_train, X_test, y_train, y_test = train_test_split(data_bases['iris']['X'],data_bases['iris']['y'], train_size=0.75, test_size= 0.25) # aqui podera ser feito troca da base de dados\n",
        "\n",
        "  knn_k.fit(X_train, y_train) #treinando knn\n",
        "  wknn_k.fit(X_train, y_train) #treinando wknn\n",
        "  dwknn_k.fit(X_train, y_train) #treinando dwknn\n",
        "\n",
        "\n",
        "  teste_y = y_test[i]\n",
        "  lista_y_test.append(teste_y)\n",
        "\n",
        "  ##Executar o modelo o predict\n",
        "  ### teste knn\n",
        "  teste_knn_X = knn_k.predict(X_test[i]) #testando knn\n",
        "  lista_X_test.append(teste_knn_X)\n",
        "  score_knn.append([teste_knn_X, y_test[i]])\n",
        "\n",
        "  ### teste wknn\n",
        "  teste_wknn_X = wknn_k.predict(X_test[i]) #testando wknn\n",
        "  lista_X_test_wknn.append(teste_wknn_X)\n",
        "  score_wknn.append([teste_wknn_X, y_test[i]])\n",
        "\n",
        "  ### teste dwknn\n",
        "  teste_dwknn_X = dwknn_k.predict(X_test[i]) #testando dwknn\n",
        "  lista_X_test_dwknn.append(teste_dwknn_X)\n",
        "  score_dwknn.append([teste_dwknn_X, y_test[i]])\n",
        "  "
      ],
      "metadata": {
        "id": "baTtGO6gjOga"
      },
      "execution_count": null,
      "outputs": []
    },
    {
      "cell_type": "code",
      "source": [
        "#medir a precisão global do modelo\n",
        "#acurácia do knn\n",
        "accuracy_knn = accuracy_score(lista_y_test, lista_X_test)\n",
        "print(\n",
        "    f\"\"\"\n",
        "    A precisão global do modelo foi de {100*accuracy_knn:.2f}%\n",
        "    \"\"\"\n",
        ")"
      ],
      "metadata": {
        "id": "5oy8__gdQEua",
        "outputId": "3fa46930-6ac8-4947-9f5b-3e06fdc5e6c2",
        "colab": {
          "base_uri": "https://localhost:8080/"
        }
      },
      "execution_count": null,
      "outputs": [
        {
          "output_type": "stream",
          "name": "stdout",
          "text": [
            "\n",
            "    A precisão global do modelo foi de 98.67%\n",
            "    \n"
          ]
        }
      ]
    },
    {
      "cell_type": "code",
      "source": [
        "#acurácia do wknn\n",
        "accuracy_wknn = accuracy_score(lista_y_test,lista_X_test_wknn)\n",
        "print(\n",
        "    f\"\"\"\n",
        "    A precisão global do modelo foi de {100*accuracy_wknn:.2f}%\n",
        "    \"\"\"\n",
        ")"
      ],
      "metadata": {
        "id": "53rXQSGrTbAH",
        "outputId": "ba120ac2-4674-4b5f-a688-07703a63415b",
        "colab": {
          "base_uri": "https://localhost:8080/"
        }
      },
      "execution_count": null,
      "outputs": [
        {
          "output_type": "stream",
          "name": "stdout",
          "text": [
            "\n",
            "    A precisão global do modelo foi de 98.67%\n",
            "    \n"
          ]
        }
      ]
    },
    {
      "cell_type": "code",
      "source": [
        "#acurácia do dwknn\n",
        "accuracy_dwknn = accuracy_score(lista_y_test,lista_X_test_dwknn)\n",
        "print(\n",
        "    f\"\"\"\n",
        "    A precisão global do modelo foi de {100*accuracy_dwknn:.2f}%\n",
        "    \"\"\"\n",
        ")"
      ],
      "metadata": {
        "id": "QUtbtsP9UbHt",
        "outputId": "b7f0857e-6a32-48a4-f4eb-f3402871d387",
        "colab": {
          "base_uri": "https://localhost:8080/"
        }
      },
      "execution_count": null,
      "outputs": [
        {
          "output_type": "stream",
          "name": "stdout",
          "text": [
            "\n",
            "    A precisão global do modelo foi de 98.67%\n",
            "    \n"
          ]
        }
      ]
    },
    {
      "cell_type": "code",
      "source": [
        "# KNN \n",
        "plt.figure(figsize=(10,6))\n",
        "plt.plot(range(0,25), score_knn, color='blue', linestyle='dashed', marker='o',\n",
        "           markerfacecolor = 'red', markersize=10)\n",
        "plt.title('Gráfico')\n",
        "plt.xlabel('X')\n",
        "plt.ylabel('Y')"
      ],
      "metadata": {
        "colab": {
          "base_uri": "https://localhost:8080/",
          "height": 476
        },
        "id": "W1xmP0v_BLa8",
        "outputId": "d555281d-d8d4-4fd7-9e3e-b57efb499e16"
      },
      "execution_count": null,
      "outputs": [
        {
          "output_type": "stream",
          "name": "stderr",
          "text": [
            "/usr/local/lib/python3.8/dist-packages/numpy/core/shape_base.py:65: VisibleDeprecationWarning: Creating an ndarray from ragged nested sequences (which is a list-or-tuple of lists-or-tuples-or ndarrays with different lengths or shapes) is deprecated. If you meant to do this, you must specify 'dtype=object' when creating the ndarray.\n",
            "  ary = asanyarray(ary)\n"
          ]
        },
        {
          "output_type": "execute_result",
          "data": {
            "text/plain": [
              "Text(0, 0.5, 'Y')"
            ]
          },
          "metadata": {},
          "execution_count": 30
        },
        {
          "output_type": "display_data",
          "data": {
            "text/plain": [
              "<Figure size 720x432 with 1 Axes>"
            ],
            "image/png": "[encoded data removed]"
          },
          "metadata": {
            "needs_background": "light"
          }
        }
      ]
    },
    {
      "cell_type": "code",
      "source": [
        "# WKNN \n",
        "plt.figure(figsize=(10,6))\n",
        "plt.plot(range(0,25), score_wknn, color='blue', linestyle='dashed', marker='o',\n",
        "           markerfacecolor = 'red', markersize=10)\n",
        "plt.title('Gráfico')\n",
        "plt.xlabel('X')\n",
        "plt.ylabel('Y')"
      ],
      "metadata": {
        "id": "Aut7uan9Wi-r",
        "outputId": "120e002b-240d-43de-cb93-249507219897",
        "colab": {
          "base_uri": "https://localhost:8080/",
          "height": 421
        }
      },
      "execution_count": null,
      "outputs": [
        {
          "output_type": "execute_result",
          "data": {
            "text/plain": [
              "Text(0, 0.5, 'Y')"
            ]
          },
          "metadata": {},
          "execution_count": 68
        },
        {
          "output_type": "display_data",
          "data": {
            "text/plain": [
              "<Figure size 720x432 with 1 Axes>"
            ],
            "image/png": "[encoded data removed]"
          },
          "metadata": {
            "needs_background": "light"
          }
        }
      ]
    },
    {
      "cell_type": "code",
      "source": [
        "# DWKNN \n",
        "plt.figure(figsize=(10,6))\n",
        "plt.plot(range(0,25), score_dwknn, color='blue', linestyle='dashed', marker='o',\n",
        "           markerfacecolor = 'red', markersize=10)\n",
        "plt.title('Gráfico')\n",
        "plt.xlabel('X')\n",
        "plt.ylabel('Y')"
      ],
      "metadata": {
        "id": "3NNuHF8uVi_X",
        "outputId": "0332d9f5-071b-438b-fbe6-ee0437f1ecc4",
        "colab": {
          "base_uri": "https://localhost:8080/",
          "height": 421
        }
      },
      "execution_count": null,
      "outputs": [
        {
          "output_type": "execute_result",
          "data": {
            "text/plain": [
              "Text(0, 0.5, 'Y')"
            ]
          },
          "metadata": {},
          "execution_count": 69
        },
        {
          "output_type": "display_data",
          "data": {
            "text/plain": [
              "<Figure size 720x432 with 1 Axes>"
            ],
            "image/png": "[encoded data removed]"
          },
          "metadata": {
            "needs_background": "light"
          }
        }
      ]
    },
    {
      "cell_type": "code",
      "source": [
        "#analisar a precisão de predição do modelo classe à classe do knn\n",
        "from sklearn.metrics import (confusion_matrix, ConfusionMatrixDisplay)\n",
        "\n",
        "cm = confusion_matrix(lista_y_test, lista_X_test)\n",
        "\n",
        "disp = ConfusionMatrixDisplay(\n",
        "    confusion_matrix=cm,\n",
        "    display_labels= tnn_knn.target_values\n",
        ")\n",
        "\n",
        "disp.plot(cmap='binary')\n",
        "plt.show()"
      ],
      "metadata": {
        "colab": {
          "base_uri": "https://localhost:8080/",
          "height": 279
        },
        "id": "43Y6QkjTmBT2",
        "outputId": "f4ad6acb-2b23-4039-a2a0-efa9f6810cb5"
      },
      "execution_count": null,
      "outputs": [
        {
          "output_type": "display_data",
          "data": {
            "text/plain": [
              "<Figure size 432x288 with 2 Axes>"
            ],
            "image/png": "[encoded data removed]"
          },
          "metadata": {
            "needs_background": "light"
          }
        }
      ]
    },
    {
      "cell_type": "code",
      "source": [
        "#analisar a precisão de predição do modelo classe à classe do wknn\n",
        "cm = confusion_matrix(lista_y_test,lista_X_test_wknn)\n",
        "\n",
        "disp = ConfusionMatrixDisplay(\n",
        "    confusion_matrix=cm,\n",
        "    display_labels= tnn.target_values\n",
        ")\n",
        "\n",
        "disp.plot(cmap='binary')\n",
        "plt.show()"
      ],
      "metadata": {
        "colab": {
          "base_uri": "https://localhost:8080/",
          "height": 279
        },
        "id": "PoIIOsq5nce7",
        "outputId": "9433f50f-2f62-4316-9868-70a269fadec8"
      },
      "execution_count": null,
      "outputs": [
        {
          "output_type": "display_data",
          "data": {
            "text/plain": [
              "<Figure size 432x288 with 2 Axes>"
            ],
            "image/png": "[encoded data removed]"
          },
          "metadata": {
            "needs_background": "light"
          }
        }
      ]
    },
    {
      "cell_type": "code",
      "source": [
        "#analisar a precisão de predição do modelo classe à classe do dwknn\n",
        "cm = confusion_matrix(lista_y_test,lista_X_test_dwknn)\n",
        "\n",
        "disp = ConfusionMatrixDisplay(\n",
        "    confusion_matrix=cm,\n",
        "    display_labels= tnn.target_values\n",
        ")\n",
        "\n",
        "disp.plot(cmap='binary')\n",
        "plt.show()"
      ],
      "metadata": {
        "colab": {
          "base_uri": "https://localhost:8080/",
          "height": 279
        },
        "id": "kC__uNyjneFl",
        "outputId": "346cc89d-544f-4637-bb53-716fa9f8a61f"
      },
      "execution_count": null,
      "outputs": [
        {
          "output_type": "display_data",
          "data": {
            "text/plain": [
              "<Figure size 432x288 with 2 Axes>"
            ],
            "image/png": "[encoded data removed]"
          },
          "metadata": {
            "needs_background": "light"
          }
        }
      ]
    },
    {
      "cell_type": "code",
      "source": [],
      "metadata": {
        "id": "Nbo0yicODlgD"
      },
      "execution_count": null,
      "outputs": []
    }
  ]
}